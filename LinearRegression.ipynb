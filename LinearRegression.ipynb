{
  "nbformat": 4,
  "nbformat_minor": 0,
  "metadata": {
    "colab": {
      "provenance": [],
      "authorship_tag": "ABX9TyMCJNZ13wBYv1lMy7MUOpug",
      "include_colab_link": true
    },
    "kernelspec": {
      "name": "python3",
      "display_name": "Python 3"
    },
    "language_info": {
      "name": "python"
    }
  },
  "cells": [
    {
      "cell_type": "markdown",
      "metadata": {
        "id": "view-in-github",
        "colab_type": "text"
      },
      "source": [
        "<a href=\"https://colab.research.google.com/github/pranavpathak08/MLalgos/blob/main/LinearRegression.ipynb\" target=\"_parent\"><img src=\"https://colab.research.google.com/assets/colab-badge.svg\" alt=\"Open In Colab\"/></a>"
      ]
    },
    {
      "cell_type": "markdown",
      "source": [
        "# Implemeting Linear Regression \n",
        "## Importing necessary libraries"
      ],
      "metadata": {
        "id": "HRC3yhgYHOoK"
      }
    },
    {
      "cell_type": "code",
      "execution_count": 2,
      "metadata": {
        "id": "Z86q8noAG10_"
      },
      "outputs": [],
      "source": [
        "import numpy as np\n",
        "import matplotlib.pyplot as plt"
      ]
    },
    {
      "cell_type": "markdown",
      "source": [
        "## Generating Training Data"
      ],
      "metadata": {
        "id": "8EZaJ7-BHse5"
      }
    },
    {
      "cell_type": "code",
      "source": [
        "rng = np.random.default_rng(seed = 101)\n",
        "X_train = (np.arange(-2, 2, 0.01).reshape(1, -1))\n",
        "y_train = (2*X_train**3 + 3*X_train**2 + 4 + rng.normal(0, 1, X_train.shape[1]).reshape(1, -1)).T ## Noise has been added which has normal distribution"
      ],
      "metadata": {
        "id": "av_7teyeHu8P"
      },
      "execution_count": 65,
      "outputs": []
    },
    {
      "cell_type": "code",
      "source": [
        "X_train.shape, y_train.shape"
      ],
      "metadata": {
        "colab": {
          "base_uri": "https://localhost:8080/"
        },
        "id": "WAg5JDtSI25O",
        "outputId": "ab2c6884-7869-45aa-902b-33dabac0cb96"
      },
      "execution_count": 4,
      "outputs": [
        {
          "output_type": "execute_result",
          "data": {
            "text/plain": [
              "((1, 400), (400, 1))"
            ]
          },
          "metadata": {},
          "execution_count": 4
        }
      ]
    },
    {
      "cell_type": "markdown",
      "source": [
        "### Visualising training data"
      ],
      "metadata": {
        "id": "3yxHWz7DI-a8"
      }
    },
    {
      "cell_type": "code",
      "source": [
        "plt.scatter(X_train, y_train)"
      ],
      "metadata": {
        "colab": {
          "base_uri": "https://localhost:8080/",
          "height": 447
        },
        "id": "5Aln_JX0I2ht",
        "outputId": "3cc61029-379d-4f5a-bd04-3c1d883c0f8b"
      },
      "execution_count": 66,
      "outputs": [
        {
          "output_type": "execute_result",
          "data": {
            "text/plain": [
              "<matplotlib.collections.PathCollection at 0x7f5bc4f35ae0>"
            ]
          },
          "metadata": {},
          "execution_count": 66
        },
        {
          "output_type": "display_data",
          "data": {
            "text/plain": [
              "<Figure size 640x480 with 1 Axes>"
            ],
            "image/png": "[encoded data removed]"
          },
          "metadata": {}
        }
      ]
    },
    {
      "cell_type": "markdown",
      "source": [
        "## Generating Test Data"
      ],
      "metadata": {
        "id": "Pod1otTXJSVy"
      }
    },
    {
      "cell_type": "code",
      "source": [
        "rng = np.random.default_rng(seed = 102)\n",
        "X_test = np.arange(-2, 2, 0.02).reshape(1, -1)\n",
        "y_test = (2*X_test**3+3*X_test**2 +4 + rng.normal(0, 2, X_test.shape[1]).reshape(1, -1)).T"
      ],
      "metadata": {
        "id": "0GqDqx6cJR3b"
      },
      "execution_count": 67,
      "outputs": []
    },
    {
      "cell_type": "code",
      "source": [
        "X_test.shape, y_test.shape"
      ],
      "metadata": {
        "colab": {
          "base_uri": "https://localhost:8080/"
        },
        "id": "tsjTVnIrKrKW",
        "outputId": "1dc4b43a-677e-4d1f-9977-a5bc2eb5d80e"
      },
      "execution_count": 7,
      "outputs": [
        {
          "output_type": "execute_result",
          "data": {
            "text/plain": [
              "((1, 200), (200, 1))"
            ]
          },
          "metadata": {},
          "execution_count": 7
        }
      ]
    },
    {
      "cell_type": "markdown",
      "source": [
        "## Adding dummy feature\n",
        "* we know that the best fit will not pass through the origin every time, for this problem we add a dummy feature to the dataset. This dummy feature is arrays of ones."
      ],
      "metadata": {
        "id": "hQMByNf3Jt6y"
      }
    },
    {
      "cell_type": "code",
      "source": [
        "dummy_feature = np.ones(X_train.shape[1])\n",
        "X = np.row_stack((dummy_feature, X_train))\n",
        "X_t = np.row_stack((np.ones(X_test.shape[1]), X_test))"
      ],
      "metadata": {
        "id": "cChqK7FMKEpW"
      },
      "execution_count": 68,
      "outputs": []
    },
    {
      "cell_type": "code",
      "source": [
        "X.shape"
      ],
      "metadata": {
        "colab": {
          "base_uri": "https://localhost:8080/"
        },
        "id": "x8RVjBnJKyVl",
        "outputId": "76b1fa73-2f13-42b1-a032-ec1e7c7fa870"
      },
      "execution_count": 9,
      "outputs": [
        {
          "output_type": "execute_result",
          "data": {
            "text/plain": [
              "(2, 400)"
            ]
          },
          "metadata": {},
          "execution_count": 9
        }
      ]
    },
    {
      "cell_type": "markdown",
      "source": [
        "## Finding weight vector and prediction for training and test dataset"
      ],
      "metadata": {
        "id": "v6aELGdhLpcI"
      }
    },
    {
      "cell_type": "code",
      "source": [
        "## When we optimise the loss function we get w = (XX')^-1.Xy   ~ X' here means X transpose\n",
        "def weights(X, y):\n",
        "  return (np.linalg.pinv(X@(X.T)))@X@y"
      ],
      "metadata": {
        "id": "QpiiT-CuKysq"
      },
      "execution_count": 69,
      "outputs": []
    },
    {
      "cell_type": "code",
      "source": [
        "## Finding weight vector\n",
        "w = weights(X, y_train)\n",
        "w.shape"
      ],
      "metadata": {
        "colab": {
          "base_uri": "https://localhost:8080/"
        },
        "id": "GpCGx5w8K3P3",
        "outputId": "c008d42f-214f-42b8-b6fc-a3d2518b8d9c"
      },
      "execution_count": 70,
      "outputs": [
        {
          "output_type": "execute_result",
          "data": {
            "text/plain": [
              "(2, 1)"
            ]
          },
          "metadata": {},
          "execution_count": 70
        }
      ]
    },
    {
      "cell_type": "code",
      "source": [
        "## Prediction\n",
        "def predict(X, w):\n",
        "  return (X.T)@w"
      ],
      "metadata": {
        "id": "WBbC5Iy0K28D"
      },
      "execution_count": 71,
      "outputs": []
    },
    {
      "cell_type": "code",
      "source": [
        "train_pred = predict(X, w)\n",
        "test_pred = predict(X_t, w)"
      ],
      "metadata": {
        "id": "rAdXTwXIMy98"
      },
      "execution_count": 72,
      "outputs": []
    },
    {
      "cell_type": "markdown",
      "source": [
        "## Plotting the weight vector"
      ],
      "metadata": {
        "id": "b0oLRVmQNo50"
      }
    },
    {
      "cell_type": "code",
      "source": [
        "plt.scatter(X_train, y_train)\n",
        "axes = plt.gca()\n",
        "x_vals = np.array(axes.get_xlim())\n",
        "y_vals = w[0] + w[1]*x_vals\n",
        "plt.plot(x_vals, y_vals, 'r-')"
      ],
      "metadata": {
        "colab": {
          "base_uri": "https://localhost:8080/",
          "height": 447
        },
        "id": "cYHx2U0mNrro",
        "outputId": "5f1f271d-c7b5-4e55-e1a2-d0aa8bb49cf9"
      },
      "execution_count": 73,
      "outputs": [
        {
          "output_type": "execute_result",
          "data": {
            "text/plain": [
              "[<matplotlib.lines.Line2D at 0x7f5bc5224b50>]"
            ]
          },
          "metadata": {},
          "execution_count": 73
        },
        {
          "output_type": "display_data",
          "data": {
            "text/plain": [
              "<Figure size 640x480 with 1 Axes>"
            ],
            "image/png": "[encoded data removed]"
          },
          "metadata": {}
        }
      ]
    },
    {
      "cell_type": "markdown",
      "source": [
        "## Evaluating RMSE (Root mean squared error)"
      ],
      "metadata": {
        "id": "XpdUGvHsn7Yo"
      }
    },
    {
      "cell_type": "code",
      "source": [
        "## RMSE\n",
        "def loss(y, yhat):\n",
        "  return np.sqrt(np.mean((y - yhat)** 2))"
      ],
      "metadata": {
        "id": "Ogwicwa3YNs2"
      },
      "execution_count": 74,
      "outputs": []
    },
    {
      "cell_type": "code",
      "source": [
        "## Training error\n",
        "loss_train = loss(y_train, train_pred)\n",
        "loss_test = loss(y_test, test_pred)\n",
        "loss_train, loss_test\n"
      ],
      "metadata": {
        "id": "tcyI1LIxYN_E",
        "colab": {
          "base_uri": "https://localhost:8080/"
        },
        "outputId": "9a6e8891-2720-48e5-8e85-d98086ffb346"
      },
      "execution_count": 75,
      "outputs": [
        {
          "output_type": "execute_result",
          "data": {
            "text/plain": [
              "(4.477002001803876, 4.718639896481515)"
            ]
          },
          "metadata": {},
          "execution_count": 75
        }
      ]
    },
    {
      "cell_type": "markdown",
      "source": [
        "## Linear Regression using Gradient Descent"
      ],
      "metadata": {
        "id": "53LO-_d7ssIP"
      }
    },
    {
      "cell_type": "code",
      "source": [
        "## We find gradient of the loss function. We start with a random w at the loss function.\n",
        "def gradient(X, w, y):\n",
        "  return (X@X.T)@w - (X@y)"
      ],
      "metadata": {
        "id": "-HIgApRnsw1r"
      },
      "execution_count": 76,
      "outputs": []
    },
    {
      "cell_type": "code",
      "source": [
        "## Gradient descent. This is an update rule (w = w - eta*gradient()) ~ [eta is the learning rate here. Size of eta determines how quickly we converge or diverge from min val]\n",
        "def gd(X, y, n_iter, eta):\n",
        "  w0 = np.zeros(X.shape[0]).reshape(2, 1)\n",
        "  for i in range(n_iter):\n",
        "    w0 = w0 - eta*(gradient(X, w0, y))\n",
        "\n",
        "  return w0"
      ],
      "metadata": {
        "id": "5ahwVb3ktWbG"
      },
      "execution_count": 81,
      "outputs": []
    },
    {
      "cell_type": "markdown",
      "source": [
        "## Weight vector calculated using gradient descent"
      ],
      "metadata": {
        "id": "ZjlS3FoIu09t"
      }
    },
    {
      "cell_type": "code",
      "source": [
        "w_gd = gd(X, y_train, 100, 0.0001)\n",
        "w_gd"
      ],
      "metadata": {
        "colab": {
          "base_uri": "https://localhost:8080/"
        },
        "id": "Yg3JLtJfu5tn",
        "outputId": "97f82a80-b8b4-4fcc-97cc-1bb5169c68f7"
      },
      "execution_count": 89,
      "outputs": [
        {
          "output_type": "execute_result",
          "data": {
            "text/plain": [
              "array([[7.80494706],\n",
              "       [4.77759074]])"
            ]
          },
          "metadata": {},
          "execution_count": 89
        }
      ]
    },
    {
      "cell_type": "code",
      "source": [
        "train_pred_gd =  predict(X, w_gd)\n",
        "loss(y_train, train_pred_gd)"
      ],
      "metadata": {
        "colab": {
          "base_uri": "https://localhost:8080/"
        },
        "id": "DEqAaA9mvrIV",
        "outputId": "6706996a-2955-4108-da09-708674607723"
      },
      "execution_count": 90,
      "outputs": [
        {
          "output_type": "execute_result",
          "data": {
            "text/plain": [
              "4.479099000218296"
            ]
          },
          "metadata": {},
          "execution_count": 90
        }
      ]
    },
    {
      "cell_type": "markdown",
      "source": [
        "## Plot of number of iterations vs loss\n"
      ],
      "metadata": {
        "id": "bngyrrWfxCU1"
      }
    },
    {
      "cell_type": "code",
      "source": [
        "niters = [10, 20, 100, 1000]\n",
        "lss = []\n",
        "for i in niters:\n",
        "  w_gd = gd(X, y_train, i, 0.0001)\n",
        "  pred = predict(X, w_gd)\n",
        "  lss.append(loss(y_train, pred))\n",
        "\n",
        "plt.plot(niters, lss)"
      ],
      "metadata": {
        "colab": {
          "base_uri": "https://localhost:8080/",
          "height": 447
        },
        "id": "eL823MONxAfQ",
        "outputId": "e7584269-f44a-4a98-cf2b-a00a6386b1f8"
      },
      "execution_count": 91,
      "outputs": [
        {
          "output_type": "execute_result",
          "data": {
            "text/plain": [
              "[<matplotlib.lines.Line2D at 0x7f5bc4b1a560>]"
            ]
          },
          "metadata": {},
          "execution_count": 91
        },
        {
          "output_type": "display_data",
          "data": {
            "text/plain": [
              "<Figure size 640x480 with 1 Axes>"
            ],
            "image/png": "[encoded data removed]"
          },
          "metadata": {}
        }
      ]
    }
  ]
}