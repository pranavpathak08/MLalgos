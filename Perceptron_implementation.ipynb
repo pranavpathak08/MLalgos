{
  "nbformat": 4,
  "nbformat_minor": 0,
  "metadata": {
    "colab": {
      "provenance": [],
      "authorship_tag": "ABX9TyOL782QQDXQRsHcHyKpsyu3",
      "include_colab_link": true
    },
    "kernelspec": {
      "name": "python3",
      "display_name": "Python 3"
    },
    "language_info": {
      "name": "python"
    }
  },
  "cells": [
    {
      "cell_type": "markdown",
      "metadata": {
        "id": "view-in-github",
        "colab_type": "text"
      },
      "source": [
        "<a href=\"https://colab.research.google.com/github/pranavpathak08/MLalgos/blob/main/Perceptron_implementation.ipynb\" target=\"_parent\"><img src=\"https://colab.research.google.com/assets/colab-badge.svg\" alt=\"Open In Colab\"/></a>"
      ]
    },
    {
      "cell_type": "code",
      "execution_count": 2,
      "metadata": {
        "id": "k-zvmtvpucd1"
      },
      "outputs": [],
      "source": [
        "import numpy as np\n",
        "import matplotlib.pyplot as plt"
      ]
    },
    {
      "cell_type": "markdown",
      "source": [
        "## Using `make_classification` dataset from sklearn library"
      ],
      "metadata": {
        "id": "mqH9phKyw2X7"
      }
    },
    {
      "cell_type": "code",
      "source": [
        "from sklearn.datasets import make_classification\n",
        "X, y = make_classification(n_samples=50, n_features=2, n_informative=2,  n_redundant=0, n_clusters_per_class=1, flip_y=0, class_sep=3, random_state=20)"
      ],
      "metadata": {
        "id": "qAT-s0uLw1M_"
      },
      "execution_count": 3,
      "outputs": []
    },
    {
      "cell_type": "code",
      "source": [
        "print('Samples in the dataset :', X.shape[0])\n",
        "print('Features in the dataset :', X.shape[1])"
      ],
      "metadata": {
        "colab": {
          "base_uri": "https://localhost:8080/"
        },
        "id": "zJJn8UF8w1aT",
        "outputId": "2cf91862-daad-4bc6-b123-cb20f9e7105d"
      },
      "execution_count": 6,
      "outputs": [
        {
          "output_type": "stream",
          "name": "stdout",
          "text": [
            "Samples in the dataset : 50\n",
            "Features in the dataset : 2\n"
          ]
        }
      ]
    },
    {
      "cell_type": "code",
      "source": [
        "y"
      ],
      "metadata": {
        "colab": {
          "base_uri": "https://localhost:8080/"
        },
        "id": "9f5ffP60w1nP",
        "outputId": "f69d8840-e364-46e7-fc1a-393f8b931944"
      },
      "execution_count": 7,
      "outputs": [
        {
          "output_type": "execute_result",
          "data": {
            "text/plain": [
              "array([1, 1, 1, 1, 1, 1, 1, 0, 0, 1, 0, 0, 0, 1, 0, 0, 1, 1, 0, 1, 0, 1,\n",
              "       0, 0, 1, 0, 1, 0, 1, 1, 0, 1, 0, 1, 0, 1, 1, 0, 0, 0, 0, 1, 1, 0,\n",
              "       0, 0, 0, 1, 1, 0])"
            ]
          },
          "metadata": {},
          "execution_count": 7
        }
      ]
    },
    {
      "cell_type": "markdown",
      "source": [
        "Replacing all zeroes in `target vector y` with -1"
      ],
      "metadata": {
        "id": "Pyxc5iE5x29i"
      }
    },
    {
      "cell_type": "code",
      "source": [
        "y[y == 0] = -1\n",
        "y"
      ],
      "metadata": {
        "colab": {
          "base_uri": "https://localhost:8080/"
        },
        "id": "nJ9e93qXw1vg",
        "outputId": "52d82d8f-7f4f-4cdc-ef3c-bd5f52609e79"
      },
      "execution_count": 10,
      "outputs": [
        {
          "output_type": "execute_result",
          "data": {
            "text/plain": [
              "array([ 1,  1,  1,  1,  1,  1,  1, -1, -1,  1, -1, -1, -1,  1, -1, -1,  1,\n",
              "        1, -1,  1, -1,  1, -1, -1,  1, -1,  1, -1,  1,  1, -1,  1, -1,  1,\n",
              "       -1,  1,  1, -1, -1, -1, -1,  1,  1, -1, -1, -1, -1,  1,  1, -1])"
            ]
          },
          "metadata": {},
          "execution_count": 10
        }
      ]
    },
    {
      "cell_type": "code",
      "source": [
        "np.unique(y) ## Number of unique classes in y"
      ],
      "metadata": {
        "colab": {
          "base_uri": "https://localhost:8080/"
        },
        "id": "1Mn2Z07yyJuK",
        "outputId": "b6f16ce1-a468-4fbe-950a-4b6448042f91"
      },
      "execution_count": 11,
      "outputs": [
        {
          "output_type": "execute_result",
          "data": {
            "text/plain": [
              "array([-1,  1])"
            ]
          },
          "metadata": {},
          "execution_count": 11
        }
      ]
    },
    {
      "cell_type": "markdown",
      "source": [
        "Visualising the data"
      ],
      "metadata": {
        "id": "yccHuQN2yjje"
      }
    },
    {
      "cell_type": "code",
      "source": [
        "plt.scatter(X[:, 0], X[:, 1], c=y);"
      ],
      "metadata": {
        "colab": {
          "base_uri": "https://localhost:8080/",
          "height": 430
        },
        "id": "7A0dMjHwyJ_T",
        "outputId": "5f68fcbd-db71-43ea-a34d-1b36d901092c"
      },
      "execution_count": 13,
      "outputs": [
        {
          "output_type": "display_data",
          "data": {
            "text/plain": [
              "<Figure size 640x480 with 1 Axes>"
            ],
            "image/png": "[encoded data removed]"
          },
          "metadata": {}
        }
      ]
    },
    {
      "cell_type": "markdown",
      "source": [
        "Intialising w to be a zero vector and its shape will be equal to the number of features in the dataset."
      ],
      "metadata": {
        "id": "7yI1Eqo0zQBG"
      }
    },
    {
      "cell_type": "code",
      "source": [
        "w = np.zeros(X.shape[1])\n",
        "w"
      ],
      "metadata": {
        "colab": {
          "base_uri": "https://localhost:8080/"
        },
        "id": "URD9jcSpyvvK",
        "outputId": "bbce34bb-8ecc-41f9-d45a-6f2382ce965d"
      },
      "execution_count": 14,
      "outputs": [
        {
          "output_type": "execute_result",
          "data": {
            "text/plain": [
              "array([0., 0.])"
            ]
          },
          "metadata": {},
          "execution_count": 14
        }
      ]
    },
    {
      "cell_type": "markdown",
      "source": [
        "Iterating over each data point $x$ in X one by one. Computing value of $w^Tx$, if the value >=0 , predict positive class for x, else predict the negative class."
      ],
      "metadata": {
        "id": "5_FlSZoOzg8R"
      }
    },
    {
      "cell_type": "code",
      "source": [
        "w = np.zeros(X.shape[1])\n",
        "\n",
        "for i in range(len(X)):\n",
        "  y_pred = 1 if w.T@X[i] >=0 else -1\n",
        "  print(y[i], y_pred)"
      ],
      "metadata": {
        "colab": {
          "base_uri": "https://localhost:8080/"
        },
        "id": "WrPuZZMnyv3O",
        "outputId": "cf1c9fe3-1dee-4244-a782-cb91ded92903"
      },
      "execution_count": 16,
      "outputs": [
        {
          "output_type": "stream",
          "name": "stdout",
          "text": [
            "1 1\n",
            "1 1\n",
            "1 1\n",
            "1 1\n",
            "1 1\n",
            "1 1\n",
            "1 1\n",
            "-1 1\n",
            "-1 1\n",
            "1 1\n",
            "-1 1\n",
            "-1 1\n",
            "-1 1\n",
            "1 1\n",
            "-1 1\n",
            "-1 1\n",
            "1 1\n",
            "1 1\n",
            "-1 1\n",
            "1 1\n",
            "-1 1\n",
            "1 1\n",
            "-1 1\n",
            "-1 1\n",
            "1 1\n",
            "-1 1\n",
            "1 1\n",
            "-1 1\n",
            "1 1\n",
            "1 1\n",
            "-1 1\n",
            "1 1\n",
            "-1 1\n",
            "1 1\n",
            "-1 1\n",
            "1 1\n",
            "1 1\n",
            "-1 1\n",
            "-1 1\n",
            "-1 1\n",
            "-1 1\n",
            "1 1\n",
            "1 1\n",
            "-1 1\n",
            "-1 1\n",
            "-1 1\n",
            "-1 1\n",
            "1 1\n",
            "1 1\n",
            "-1 1\n"
          ]
        }
      ]
    },
    {
      "cell_type": "markdown",
      "source": [
        "If prediction does not match the actual class label for any data point, update the weight vector `w_new = w_old + xy` where x is the data point and y is the actual label of x. We will also keep track of `total_mistakes` made by the algo"
      ],
      "metadata": {
        "id": "77SYXqak1NA9"
      }
    },
    {
      "cell_type": "code",
      "source": [
        "w = np.zeros(X.shape[1])\n",
        "total_mistakes = 0\n",
        "\n",
        "for i in range(len(X)):\n",
        "  y_pred = 1 if w.T@X[i] >=0 else -1\n",
        "\n",
        "  if y_pred!=y[i]:\n",
        "    w = w + X[i]*y[i]\n",
        "    total_mistakes +=1\n",
        "\n",
        "print('Total mistakes :', total_mistakes)"
      ],
      "metadata": {
        "colab": {
          "base_uri": "https://localhost:8080/"
        },
        "id": "OExuUCxPyv_n",
        "outputId": "f2345f7e-304b-4aa1-bcca-aad9eb734363"
      },
      "execution_count": 21,
      "outputs": [
        {
          "output_type": "stream",
          "name": "stdout",
          "text": [
            "Total mistakes : 2\n"
          ]
        }
      ]
    },
    {
      "cell_type": "markdown",
      "source": [
        "running this algo for 10 epochs but stop running if no weight updates in an epoch."
      ],
      "metadata": {
        "id": "kH8INk2t2hoG"
      }
    },
    {
      "cell_type": "code",
      "source": [
        "w = np.zeros(X.shape[1])\n",
        "total_mistakes = 0\n",
        "epochs = 10\n",
        "weight_updates_per_epoch = {}\n",
        "\n",
        "for epoch in range(epochs):\n",
        "  print('epoch :', epoch)\n",
        "  weight_updates_per_epoch[epoch] = 0\n",
        "\n",
        "  for i in range(len(X)):\n",
        "    y_pred = 1 if w.T@X[i] >=0 else -1\n",
        "\n",
        "    if y_pred != y[i]:\n",
        "      w = w + X[i]*y[i]\n",
        "      total_mistakes += 1\n",
        "      weight_updates_per_epoch[epoch] += 1\n",
        "\n",
        "  if weight_updates_per_epoch[epoch] == 0:\n",
        "    break\n",
        "  print('Total mistakes : ', total_mistakes)\n",
        "  print(weight_updates_per_epoch)\n",
        "  print(w)"
      ],
      "metadata": {
        "colab": {
          "base_uri": "https://localhost:8080/"
        },
        "id": "lCbYpt28yKH7",
        "outputId": "f68b86cc-20b1-499e-b25c-5c2185c574d9"
      },
      "execution_count": 22,
      "outputs": [
        {
          "output_type": "stream",
          "name": "stdout",
          "text": [
            "epoch : 0\n",
            "Total mistakes :  2\n",
            "{0: 2}\n",
            "[ 6.08372134 -0.97979197]\n",
            "epoch : 1\n"
          ]
        }
      ]
    },
    {
      "cell_type": "markdown",
      "source": [
        "Plotting the `weight vector w` and the decision boundary."
      ],
      "metadata": {
        "id": "YzNmIYhd6TTe"
      }
    },
    {
      "cell_type": "code",
      "source": [
        "plt.scatter(X[:, 0], X[:, 1], c = y)\n",
        "plt.quiver(0, 0, w[0], w[1], scale=21, color = 'g')\n",
        "plt.quiver(0, 0, -10*w[1], 10*w[0], scale=21, color = 'y', headaxislength = 0, headlength = 0)\n",
        "plt.quiver(0, 0, 10*w[1], -10*w[0], scale=21, color = 'y', headaxislength = 0, headlength = 0)\n",
        "plt.grid()\n",
        "plt.xlim(-7, 7)\n",
        "plt.ylim(-7, 7)"
      ],
      "metadata": {
        "colab": {
          "base_uri": "https://localhost:8080/",
          "height": 447
        },
        "id": "crGhH_kGyKSn",
        "outputId": "a8d0e9f9-fb85-41bb-a559-6161f75caa5c"
      },
      "execution_count": 23,
      "outputs": [
        {
          "output_type": "execute_result",
          "data": {
            "text/plain": [
              "(-7.0, 7.0)"
            ]
          },
          "metadata": {},
          "execution_count": 23
        },
        {
          "output_type": "display_data",
          "data": {
            "text/plain": [
              "<Figure size 640x480 with 1 Axes>"
            ],
            "image/png": "[encoded data removed]"
          },
          "metadata": {}
        }
      ]
    }
  ]
}